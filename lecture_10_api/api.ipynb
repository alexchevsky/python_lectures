{
 "cells": [
  {
   "cell_type": "code",
   "execution_count": null,
   "metadata": {},
   "outputs": [],
   "source": [
    "import os \n",
    "import requests\n",
    "from dotenv import load_dotenv\n",
    "\n",
    "load_dotenv()"
   ]
  },
  {
   "cell_type": "code",
   "execution_count": null,
   "metadata": {},
   "outputs": [],
   "source": [
    "res = requests.get('https://google.com')"
   ]
  },
  {
   "cell_type": "code",
   "execution_count": null,
   "metadata": {},
   "outputs": [],
   "source": [
    "#  'json',\n",
    "#  'links',\n",
    "#  'next',\n",
    "#  'ok',\n",
    "#  'raise_for_status',\n",
    "#  'raw',\n",
    "#  'reason',\n",
    "#  'request',\n",
    "#  'status_code',\n",
    "#  'text',\n",
    "#  'url'\n",
    "\n",
    "res.text"
   ]
  },
  {
   "cell_type": "code",
   "execution_count": null,
   "metadata": {},
   "outputs": [],
   "source": [
    "domain = 'facebook.com'\n",
    "url = f'https://api.domainsdb.info/v1/domains/search?domain={domain}'\n",
    "\n",
    "res = requests.get(url)\n",
    "res"
   ]
  },
  {
   "cell_type": "code",
   "execution_count": null,
   "metadata": {},
   "outputs": [],
   "source": [
    "domains = res.json()\n",
    "[d['domain'] for d in domains['domains']]"
   ]
  },
  {
   "cell_type": "code",
   "execution_count": null,
   "metadata": {},
   "outputs": [],
   "source": [
    "res = requests.get('https://api.ipify.org?format=json')\n",
    "ip = res.json()['ip']"
   ]
  },
  {
   "cell_type": "code",
   "execution_count": null,
   "metadata": {},
   "outputs": [],
   "source": [
    "res = requests.get(f'https://ipinfo.io/{ip}/geo')"
   ]
  },
  {
   "cell_type": "code",
   "execution_count": null,
   "metadata": {},
   "outputs": [],
   "source": [
    "# post \n",
    "\n",
    "url = 'https://csclub.uwaterloo.ca/~phthakka/1pt-express/addURL'\n",
    "\n",
    "params = {\n",
    "    'long': 'https://google.com',\n",
    "    'short': 'romashka'\n",
    "}\n",
    "\n",
    "res = requests.post(url, params=params)\n",
    "res"
   ]
  },
  {
   "cell_type": "code",
   "execution_count": null,
   "metadata": {},
   "outputs": [],
   "source": [
    "res.json()"
   ]
  },
  {
   "cell_type": "code",
   "execution_count": null,
   "metadata": {},
   "outputs": [],
   "source": [
    "# Auth\n",
    "\n",
    "func = 'TIME_SERIES_DAILY'\n",
    "symbol = 'TSLA'\n",
    "api_key = os.getenv('api_key')\n",
    "\n",
    "url = f'https://www.alphavantage.co/query?function={func}&symbol={symbol}&apikey={api_key}'\n",
    "\n",
    "r = requests.get(url)\n",
    "\n",
    "data = r.json()\n",
    "\n",
    "data"
   ]
  }
 ],
 "metadata": {
  "language_info": {
   "name": "python"
  }
 },
 "nbformat": 4,
 "nbformat_minor": 2
}
