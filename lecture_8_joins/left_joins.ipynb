{
 "cells": [
  {
   "cell_type": "code",
   "execution_count": 1,
   "metadata": {},
   "outputs": [],
   "source": [
    "import pandas as pd"
   ]
  },
  {
   "cell_type": "code",
   "execution_count": 2,
   "metadata": {},
   "outputs": [
    {
     "data": {
      "text/html": [
       "<div>\n",
       "<style scoped>\n",
       "    .dataframe tbody tr th:only-of-type {\n",
       "        vertical-align: middle;\n",
       "    }\n",
       "\n",
       "    .dataframe tbody tr th {\n",
       "        vertical-align: top;\n",
       "    }\n",
       "\n",
       "    .dataframe thead th {\n",
       "        text-align: right;\n",
       "    }\n",
       "</style>\n",
       "<table border=\"1\" class=\"dataframe\">\n",
       "  <thead>\n",
       "    <tr style=\"text-align: right;\">\n",
       "      <th></th>\n",
       "      <th>payment_id</th>\n",
       "      <th>user_id</th>\n",
       "      <th>created_at</th>\n",
       "      <th>payment_sum</th>\n",
       "    </tr>\n",
       "  </thead>\n",
       "  <tbody>\n",
       "    <tr>\n",
       "      <th>0</th>\n",
       "      <td>2</td>\n",
       "      <td>2</td>\n",
       "      <td>2019-12-09 16:57:19.000</td>\n",
       "      <td>42.26</td>\n",
       "    </tr>\n",
       "    <tr>\n",
       "      <th>1</th>\n",
       "      <td>4</td>\n",
       "      <td>4</td>\n",
       "      <td>2019-12-10 03:49:35.000</td>\n",
       "      <td>18.25</td>\n",
       "    </tr>\n",
       "    <tr>\n",
       "      <th>2</th>\n",
       "      <td>6</td>\n",
       "      <td>6</td>\n",
       "      <td>2019-12-12 00:19:08.000</td>\n",
       "      <td>10.52</td>\n",
       "    </tr>\n",
       "    <tr>\n",
       "      <th>3</th>\n",
       "      <td>7</td>\n",
       "      <td>7</td>\n",
       "      <td>2019-12-13 15:15:30.000</td>\n",
       "      <td>14.02</td>\n",
       "    </tr>\n",
       "    <tr>\n",
       "      <th>4</th>\n",
       "      <td>8</td>\n",
       "      <td>8</td>\n",
       "      <td>2019-12-14 00:02:06.000</td>\n",
       "      <td>10.78</td>\n",
       "    </tr>\n",
       "  </tbody>\n",
       "</table>\n",
       "</div>"
      ],
      "text/plain": [
       "   payment_id  user_id               created_at  payment_sum\n",
       "0           2        2  2019-12-09 16:57:19.000        42.26\n",
       "1           4        4  2019-12-10 03:49:35.000        18.25\n",
       "2           6        6  2019-12-12 00:19:08.000        10.52\n",
       "3           7        7  2019-12-13 15:15:30.000        14.02\n",
       "4           8        8  2019-12-14 00:02:06.000        10.78"
      ]
     },
     "execution_count": 2,
     "metadata": {},
     "output_type": "execute_result"
    }
   ],
   "source": [
    "orders = pd.read_csv('data/orders.csv')\n",
    "orders.head()"
   ]
  },
  {
   "cell_type": "code",
   "execution_count": 3,
   "metadata": {},
   "outputs": [
    {
     "data": {
      "text/html": [
       "<div>\n",
       "<style scoped>\n",
       "    .dataframe tbody tr th:only-of-type {\n",
       "        vertical-align: middle;\n",
       "    }\n",
       "\n",
       "    .dataframe tbody tr th {\n",
       "        vertical-align: top;\n",
       "    }\n",
       "\n",
       "    .dataframe thead th {\n",
       "        text-align: right;\n",
       "    }\n",
       "</style>\n",
       "<table border=\"1\" class=\"dataframe\">\n",
       "  <thead>\n",
       "    <tr style=\"text-align: right;\">\n",
       "      <th></th>\n",
       "      <th>id</th>\n",
       "      <th>email</th>\n",
       "      <th>reg_date</th>\n",
       "      <th>first_name</th>\n",
       "      <th>last_name</th>\n",
       "      <th>country</th>\n",
       "      <th>user_uuid</th>\n",
       "    </tr>\n",
       "  </thead>\n",
       "  <tbody>\n",
       "    <tr>\n",
       "      <th>0</th>\n",
       "      <td>1124</td>\n",
       "      <td>ts2000@hotmail.com</td>\n",
       "      <td>2020-06-28</td>\n",
       "      <td>Timothy</td>\n",
       "      <td>Simmons</td>\n",
       "      <td>US</td>\n",
       "      <td>a7c9b0bd-475e-4e49-8c4f-ff78063cff2e</td>\n",
       "    </tr>\n",
       "    <tr>\n",
       "      <th>1</th>\n",
       "      <td>1766</td>\n",
       "      <td>martinez1985@bing.com</td>\n",
       "      <td>2020-09-20</td>\n",
       "      <td>Jose</td>\n",
       "      <td>Martinez</td>\n",
       "      <td>China</td>\n",
       "      <td>73682891-8f7e-4890-a32a-0422437a588d</td>\n",
       "    </tr>\n",
       "    <tr>\n",
       "      <th>2</th>\n",
       "      <td>4132</td>\n",
       "      <td>patton1986@gmail.com</td>\n",
       "      <td>2021-09-01</td>\n",
       "      <td>Maria</td>\n",
       "      <td>Patton</td>\n",
       "      <td>India</td>\n",
       "      <td>5e77f1a0-af6f-4216-99fc-b91d2f7fdd63</td>\n",
       "    </tr>\n",
       "    <tr>\n",
       "      <th>3</th>\n",
       "      <td>3662</td>\n",
       "      <td>jonathan.vaughan@mail.com</td>\n",
       "      <td>2021-06-23</td>\n",
       "      <td>Jonathan</td>\n",
       "      <td>Vaughan</td>\n",
       "      <td>China</td>\n",
       "      <td>557118ac-5bf9-4765-a036-b781daf93597</td>\n",
       "    </tr>\n",
       "    <tr>\n",
       "      <th>4</th>\n",
       "      <td>4804</td>\n",
       "      <td>bsingleton@mail.com</td>\n",
       "      <td>2021-12-15</td>\n",
       "      <td>Bradley</td>\n",
       "      <td>Singleton</td>\n",
       "      <td>Germany</td>\n",
       "      <td>fc8a9241-3e12-4c77-b21a-fd6e9b6466b4</td>\n",
       "    </tr>\n",
       "  </tbody>\n",
       "</table>\n",
       "</div>"
      ],
      "text/plain": [
       "     id                      email    reg_date first_name  last_name  country  \\\n",
       "0  1124         ts2000@hotmail.com  2020-06-28    Timothy    Simmons       US   \n",
       "1  1766      martinez1985@bing.com  2020-09-20       Jose   Martinez    China   \n",
       "2  4132       patton1986@gmail.com  2021-09-01      Maria     Patton    India   \n",
       "3  3662  jonathan.vaughan@mail.com  2021-06-23   Jonathan    Vaughan    China   \n",
       "4  4804        bsingleton@mail.com  2021-12-15    Bradley  Singleton  Germany   \n",
       "\n",
       "                              user_uuid  \n",
       "0  a7c9b0bd-475e-4e49-8c4f-ff78063cff2e  \n",
       "1  73682891-8f7e-4890-a32a-0422437a588d  \n",
       "2  5e77f1a0-af6f-4216-99fc-b91d2f7fdd63  \n",
       "3  557118ac-5bf9-4765-a036-b781daf93597  \n",
       "4  fc8a9241-3e12-4c77-b21a-fd6e9b6466b4  "
      ]
     },
     "execution_count": 3,
     "metadata": {},
     "output_type": "execute_result"
    }
   ],
   "source": [
    "users = pd.read_csv('data/users.csv')\n",
    "users.head()"
   ]
  },
  {
   "cell_type": "code",
   "execution_count": 10,
   "metadata": {},
   "outputs": [
    {
     "data": {
      "text/html": [
       "<div>\n",
       "<style scoped>\n",
       "    .dataframe tbody tr th:only-of-type {\n",
       "        vertical-align: middle;\n",
       "    }\n",
       "\n",
       "    .dataframe tbody tr th {\n",
       "        vertical-align: top;\n",
       "    }\n",
       "\n",
       "    .dataframe thead th {\n",
       "        text-align: right;\n",
       "    }\n",
       "</style>\n",
       "<table border=\"1\" class=\"dataframe\">\n",
       "  <thead>\n",
       "    <tr style=\"text-align: right;\">\n",
       "      <th></th>\n",
       "      <th>email</th>\n",
       "      <th>payment_sum</th>\n",
       "    </tr>\n",
       "    <tr>\n",
       "      <th>id</th>\n",
       "      <th></th>\n",
       "      <th></th>\n",
       "    </tr>\n",
       "  </thead>\n",
       "  <tbody>\n",
       "    <tr>\n",
       "      <th>2</th>\n",
       "      <td>bklein@yahoo.com</td>\n",
       "      <td>52.19</td>\n",
       "    </tr>\n",
       "    <tr>\n",
       "      <th>3</th>\n",
       "      <td>kthomas@mail.com</td>\n",
       "      <td>0.00</td>\n",
       "    </tr>\n",
       "    <tr>\n",
       "      <th>4</th>\n",
       "      <td>carroll2021@yahoo.com</td>\n",
       "      <td>42.76</td>\n",
       "    </tr>\n",
       "    <tr>\n",
       "      <th>6</th>\n",
       "      <td>bishop2005@gmail.com</td>\n",
       "      <td>10.52</td>\n",
       "    </tr>\n",
       "    <tr>\n",
       "      <th>7</th>\n",
       "      <td>jacob.allen@bing.com</td>\n",
       "      <td>43.58</td>\n",
       "    </tr>\n",
       "    <tr>\n",
       "      <th>...</th>\n",
       "      <td>...</td>\n",
       "      <td>...</td>\n",
       "    </tr>\n",
       "    <tr>\n",
       "      <th>7329</th>\n",
       "      <td>sanders1983@mail.com</td>\n",
       "      <td>21.28</td>\n",
       "    </tr>\n",
       "    <tr>\n",
       "      <th>7330</th>\n",
       "      <td>nathaniel.lucas@mail.com</td>\n",
       "      <td>23.01</td>\n",
       "    </tr>\n",
       "    <tr>\n",
       "      <th>7331</th>\n",
       "      <td>may1980@yahoo.com</td>\n",
       "      <td>12.71</td>\n",
       "    </tr>\n",
       "    <tr>\n",
       "      <th>7332</th>\n",
       "      <td>reed2022@bing.com</td>\n",
       "      <td>18.58</td>\n",
       "    </tr>\n",
       "    <tr>\n",
       "      <th>7333</th>\n",
       "      <td>grace.castillo@mail.com</td>\n",
       "      <td>18.55</td>\n",
       "    </tr>\n",
       "  </tbody>\n",
       "</table>\n",
       "<p>5567 rows × 2 columns</p>\n",
       "</div>"
      ],
      "text/plain": [
       "                         email  payment_sum\n",
       "id                                         \n",
       "2             bklein@yahoo.com        52.19\n",
       "3             kthomas@mail.com         0.00\n",
       "4        carroll2021@yahoo.com        42.76\n",
       "6         bishop2005@gmail.com        10.52\n",
       "7         jacob.allen@bing.com        43.58\n",
       "...                        ...          ...\n",
       "7329      sanders1983@mail.com        21.28\n",
       "7330  nathaniel.lucas@mail.com        23.01\n",
       "7331         may1980@yahoo.com        12.71\n",
       "7332         reed2022@bing.com        18.58\n",
       "7333   grace.castillo@mail.com        18.55\n",
       "\n",
       "[5567 rows x 2 columns]"
      ]
     },
     "execution_count": 10,
     "metadata": {},
     "output_type": "execute_result"
    }
   ],
   "source": [
    "(\n",
    "    users\n",
    "    .merge(orders, how='left', left_on='id', right_on='user_id')\n",
    "    .groupby('id')\n",
    "    .agg({'email': 'first', 'payment_sum': 'sum'})\n",
    ")"
   ]
  },
  {
   "cell_type": "code",
   "execution_count": 13,
   "metadata": {},
   "outputs": [],
   "source": [
    "items = pd.read_csv('data/items.csv', index_col='book_id')\n",
    "line_items = pd.read_csv('data/line_items.csv')\n",
    "line_items['sub_total'] = line_items['quantity'] * line_items['price']"
   ]
  },
  {
   "cell_type": "code",
   "execution_count": 24,
   "metadata": {},
   "outputs": [
    {
     "name": "stderr",
     "output_type": "stream",
     "text": [
      "/var/folders/s_/t8ytmm9940j564xd698kgmm00000gn/T/ipykernel_14372/2745865729.py:1: FutureWarning: The default value of numeric_only in DataFrame.sum is deprecated. In a future version, it will default to False. In addition, specifying 'numeric_only=None' is deprecated. Select only valid columns or specify the value of numeric_only to silence this warning.\n",
      "  (\n"
     ]
    },
    {
     "data": {
      "text/plain": [
       "sub_total    468287.62\n",
       "dtype: float64"
      ]
     },
     "execution_count": 24,
     "metadata": {},
     "output_type": "execute_result"
    }
   ],
   "source": [
    "(\n",
    "    orders\n",
    "    .merge(line_items, how='inner', on='payment_id')\n",
    "    .merge(items, how='left', left_on='item_id', right_index=True)\n",
    "    .groupby('item_id')\n",
    "    .agg({'title': 'first', 'sub_total': 'sum'})\n",
    ").sum()"
   ]
  },
  {
   "cell_type": "code",
   "execution_count": 25,
   "metadata": {},
   "outputs": [
    {
     "data": {
      "text/plain": [
       "468287.62"
      ]
     },
     "execution_count": 25,
     "metadata": {},
     "output_type": "execute_result"
    }
   ],
   "source": [
    "orders['payment_sum'].sum()"
   ]
  }
 ],
 "metadata": {
  "kernelspec": {
   "display_name": "data",
   "language": "python",
   "name": "python3"
  },
  "language_info": {
   "codemirror_mode": {
    "name": "ipython",
    "version": 3
   },
   "file_extension": ".py",
   "mimetype": "text/x-python",
   "name": "python",
   "nbconvert_exporter": "python",
   "pygments_lexer": "ipython3",
   "version": "3.9.6"
  },
  "orig_nbformat": 4
 },
 "nbformat": 4,
 "nbformat_minor": 2
}
