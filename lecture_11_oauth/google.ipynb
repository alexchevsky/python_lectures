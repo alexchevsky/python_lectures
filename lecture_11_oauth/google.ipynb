{
 "cells": [
  {
   "cell_type": "code",
   "execution_count": 7,
   "metadata": {},
   "outputs": [
    {
     "data": {
      "text/plain": [
       "True"
      ]
     },
     "execution_count": 7,
     "metadata": {},
     "output_type": "execute_result"
    }
   ],
   "source": [
    "import pandas as pd\n",
    "\n",
    "from dotenv import load_dotenv\n",
    "load_dotenv()\n"
   ]
  },
  {
   "cell_type": "code",
   "execution_count": 8,
   "metadata": {},
   "outputs": [],
   "source": [
    "from google.analytics.data_v1beta import BetaAnalyticsDataClient\n",
    "from google.analytics.data_v1beta.types import (\n",
    "    DateRange,\n",
    "    Dimension,\n",
    "    Metric,\n",
    "    RunReportRequest,\n",
    ")"
   ]
  },
  {
   "cell_type": "code",
   "execution_count": 9,
   "metadata": {},
   "outputs": [],
   "source": [
    "PROPERTY_ID = 386396252"
   ]
  },
  {
   "cell_type": "code",
   "execution_count": 10,
   "metadata": {},
   "outputs": [],
   "source": [
    "\n",
    "def run_report(property_id=PROPERTY_ID):\n",
    "\n",
    "    client = BetaAnalyticsDataClient()\n",
    "\n",
    "    request = RunReportRequest(\n",
    "        property=f\"properties/{property_id}\",\n",
    "        dimensions=[\n",
    "                Dimension(name=\"date\"),\n",
    "                Dimension(name=\"city\")\n",
    "            ],\n",
    "        metrics=[\n",
    "                Metric(name=\"activeUsers\"),\n",
    "                Metric(name=\"sessions\"),\n",
    "                Metric(name=\"newUsers\"),\n",
    "            ],\n",
    "        date_ranges=[\n",
    "            DateRange(start_date=\"2020-03-31\", end_date=\"today\")\n",
    "            ],\n",
    "    )\n",
    "\n",
    "    response = client.run_report(request)\n",
    "\n",
    "    return response\n",
    "\n"
   ]
  },
  {
   "cell_type": "code",
   "execution_count": 11,
   "metadata": {},
   "outputs": [],
   "source": [
    "def parse_report(res):\n",
    "\n",
    "    dim_headers = [d.name for d in res.dimension_headers]\n",
    "    metric_headers = [m.name for m in res.metric_headers]\n",
    "    headers = dim_headers + metric_headers\n",
    "\n",
    "    data = []\n",
    "\n",
    "    for row in res.rows:\n",
    "        dims = [d.value for d in row.dimension_values]\n",
    "        metrics = [m.value for m in row.metric_values]\n",
    "        data.append(dims + metrics)\n",
    "\n",
    "    df = pd.DataFrame(data, columns=headers)\n",
    "\n",
    "    return df\n"
   ]
  },
  {
   "cell_type": "code",
   "execution_count": 13,
   "metadata": {},
   "outputs": [
    {
     "data": {
      "text/html": [
       "<div>\n",
       "<style scoped>\n",
       "    .dataframe tbody tr th:only-of-type {\n",
       "        vertical-align: middle;\n",
       "    }\n",
       "\n",
       "    .dataframe tbody tr th {\n",
       "        vertical-align: top;\n",
       "    }\n",
       "\n",
       "    .dataframe thead th {\n",
       "        text-align: right;\n",
       "    }\n",
       "</style>\n",
       "<table border=\"1\" class=\"dataframe\">\n",
       "  <thead>\n",
       "    <tr style=\"text-align: right;\">\n",
       "      <th></th>\n",
       "      <th>date</th>\n",
       "      <th>city</th>\n",
       "      <th>activeUsers</th>\n",
       "      <th>sessions</th>\n",
       "      <th>newUsers</th>\n",
       "    </tr>\n",
       "  </thead>\n",
       "  <tbody>\n",
       "    <tr>\n",
       "      <th>0</th>\n",
       "      <td>20231030</td>\n",
       "      <td>Moscow</td>\n",
       "      <td>61</td>\n",
       "      <td>88</td>\n",
       "      <td>54</td>\n",
       "    </tr>\n",
       "    <tr>\n",
       "      <th>1</th>\n",
       "      <td>20231024</td>\n",
       "      <td>Moscow</td>\n",
       "      <td>60</td>\n",
       "      <td>87</td>\n",
       "      <td>54</td>\n",
       "    </tr>\n",
       "    <tr>\n",
       "      <th>2</th>\n",
       "      <td>20231120</td>\n",
       "      <td>Moscow</td>\n",
       "      <td>60</td>\n",
       "      <td>86</td>\n",
       "      <td>55</td>\n",
       "    </tr>\n",
       "    <tr>\n",
       "      <th>3</th>\n",
       "      <td>20231101</td>\n",
       "      <td>Moscow</td>\n",
       "      <td>59</td>\n",
       "      <td>88</td>\n",
       "      <td>55</td>\n",
       "    </tr>\n",
       "    <tr>\n",
       "      <th>4</th>\n",
       "      <td>20231116</td>\n",
       "      <td>Moscow</td>\n",
       "      <td>58</td>\n",
       "      <td>90</td>\n",
       "      <td>55</td>\n",
       "    </tr>\n",
       "  </tbody>\n",
       "</table>\n",
       "</div>"
      ],
      "text/plain": [
       "       date    city activeUsers sessions newUsers\n",
       "0  20231030  Moscow          61       88       54\n",
       "1  20231024  Moscow          60       87       54\n",
       "2  20231120  Moscow          60       86       55\n",
       "3  20231101  Moscow          59       88       55\n",
       "4  20231116  Moscow          58       90       55"
      ]
     },
     "execution_count": 13,
     "metadata": {},
     "output_type": "execute_result"
    }
   ],
   "source": [
    "res = run_report()\n",
    "df = parse_report(res)\n",
    "\n",
    "df.head()"
   ]
  },
  {
   "cell_type": "code",
   "execution_count": 14,
   "metadata": {},
   "outputs": [],
   "source": [
    "import gspread\n",
    "\n",
    "gc = gspread.service_account('credentials.json')"
   ]
  },
  {
   "cell_type": "code",
   "execution_count": 15,
   "metadata": {},
   "outputs": [
    {
     "name": "stderr",
     "output_type": "stream",
     "text": [
      "/var/folders/s_/t8ytmm9940j564xd698kgmm00000gn/T/ipykernel_29686/2213771718.py:2: DeprecationWarning: [Deprecated][in version 6.0.0]: Method signature's arguments 'range_name' and 'values' will change their order. We recommend using named arguments for minimal impact. In addition, the argument 'values' will be mandatory of type: 'List[List]'. (ex) Worksheet.update(values = [[]], range_name=) \n",
      "  wks.update([df.columns.values.tolist()] + df.values.tolist())\n"
     ]
    },
    {
     "data": {
      "text/plain": [
       "{'spreadsheetId': '1N6qEd_HFBQ_dQqQwcZsbfU2Q6lKcmKOBcQs0FWODCEA',\n",
       " 'updatedRange': 'Sheet1!A1:E10001',\n",
       " 'updatedRows': 10001,\n",
       " 'updatedColumns': 5,\n",
       " 'updatedCells': 50005}"
      ]
     },
     "execution_count": 15,
     "metadata": {},
     "output_type": "execute_result"
    }
   ],
   "source": [
    "\n",
    "wks = gc.open(\"gspread_test_123\").sheet1\n",
    "wks.update([df.columns.values.tolist()] + df.values.tolist())"
   ]
  },
  {
   "cell_type": "code",
   "execution_count": null,
   "metadata": {},
   "outputs": [],
   "source": []
  }
 ],
 "metadata": {
  "kernelspec": {
   "display_name": "venv",
   "language": "python",
   "name": "python3"
  },
  "language_info": {
   "codemirror_mode": {
    "name": "ipython",
    "version": 3
   },
   "file_extension": ".py",
   "mimetype": "text/x-python",
   "name": "python",
   "nbconvert_exporter": "python",
   "pygments_lexer": "ipython3",
   "version": "3.9.17"
  }
 },
 "nbformat": 4,
 "nbformat_minor": 2
}
