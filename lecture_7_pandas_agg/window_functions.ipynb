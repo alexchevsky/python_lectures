{
 "cells": [
  {
   "cell_type": "code",
   "execution_count": 1,
   "metadata": {},
   "outputs": [],
   "source": [
    "import pandas as pd"
   ]
  },
  {
   "cell_type": "code",
   "execution_count": 4,
   "metadata": {},
   "outputs": [],
   "source": [
    "df = pd.read_csv('daily_visitors_dynamic.csv')"
   ]
  },
  {
   "cell_type": "code",
   "execution_count": 16,
   "metadata": {},
   "outputs": [
    {
     "name": "stderr",
     "output_type": "stream",
     "text": [
      "/var/folders/s_/t8ytmm9940j564xd698kgmm00000gn/T/ipykernel_18953/1361621434.py:1: FutureWarning: The default value of numeric_only in DataFrameGroupBy.sum is deprecated. In a future version, numeric_only will default to False. Either specify numeric_only or select only columns which should be valid for the function.\n",
      "  df.groupby('date').sum().rolling(7).mean()\n"
     ]
    },
    {
     "data": {
      "text/html": [
       "<div>\n",
       "<style scoped>\n",
       "    .dataframe tbody tr th:only-of-type {\n",
       "        vertical-align: middle;\n",
       "    }\n",
       "\n",
       "    .dataframe tbody tr th {\n",
       "        vertical-align: top;\n",
       "    }\n",
       "\n",
       "    .dataframe thead th {\n",
       "        text-align: right;\n",
       "    }\n",
       "</style>\n",
       "<table border=\"1\" class=\"dataframe\">\n",
       "  <thead>\n",
       "    <tr style=\"text-align: right;\">\n",
       "      <th></th>\n",
       "      <th>daily_visitors</th>\n",
       "    </tr>\n",
       "    <tr>\n",
       "      <th>date</th>\n",
       "      <th></th>\n",
       "    </tr>\n",
       "  </thead>\n",
       "  <tbody>\n",
       "    <tr>\n",
       "      <th>2023-01-01</th>\n",
       "      <td>NaN</td>\n",
       "    </tr>\n",
       "    <tr>\n",
       "      <th>2023-01-02</th>\n",
       "      <td>NaN</td>\n",
       "    </tr>\n",
       "    <tr>\n",
       "      <th>2023-01-03</th>\n",
       "      <td>NaN</td>\n",
       "    </tr>\n",
       "    <tr>\n",
       "      <th>2023-01-04</th>\n",
       "      <td>NaN</td>\n",
       "    </tr>\n",
       "    <tr>\n",
       "      <th>2023-01-05</th>\n",
       "      <td>NaN</td>\n",
       "    </tr>\n",
       "    <tr>\n",
       "      <th>...</th>\n",
       "      <td>...</td>\n",
       "    </tr>\n",
       "    <tr>\n",
       "      <th>2023-09-01</th>\n",
       "      <td>39336.571429</td>\n",
       "    </tr>\n",
       "    <tr>\n",
       "      <th>2023-09-02</th>\n",
       "      <td>40118.000000</td>\n",
       "    </tr>\n",
       "    <tr>\n",
       "      <th>2023-09-03</th>\n",
       "      <td>39827.714286</td>\n",
       "    </tr>\n",
       "    <tr>\n",
       "      <th>2023-09-04</th>\n",
       "      <td>39444.000000</td>\n",
       "    </tr>\n",
       "    <tr>\n",
       "      <th>2023-09-05</th>\n",
       "      <td>39719.714286</td>\n",
       "    </tr>\n",
       "  </tbody>\n",
       "</table>\n",
       "<p>248 rows × 1 columns</p>\n",
       "</div>"
      ],
      "text/plain": [
       "            daily_visitors\n",
       "date                      \n",
       "2023-01-01             NaN\n",
       "2023-01-02             NaN\n",
       "2023-01-03             NaN\n",
       "2023-01-04             NaN\n",
       "2023-01-05             NaN\n",
       "...                    ...\n",
       "2023-09-01    39336.571429\n",
       "2023-09-02    40118.000000\n",
       "2023-09-03    39827.714286\n",
       "2023-09-04    39444.000000\n",
       "2023-09-05    39719.714286\n",
       "\n",
       "[248 rows x 1 columns]"
      ]
     },
     "execution_count": 16,
     "metadata": {},
     "output_type": "execute_result"
    }
   ],
   "source": [
    "df.groupby('date').sum().rolling(7).mean()"
   ]
  },
  {
   "cell_type": "code",
   "execution_count": 31,
   "metadata": {},
   "outputs": [],
   "source": [
    "df = df.drop('total_visitors', axis='columns')"
   ]
  },
  {
   "cell_type": "code",
   "execution_count": 32,
   "metadata": {},
   "outputs": [
    {
     "name": "stderr",
     "output_type": "stream",
     "text": [
      "/var/folders/s_/t8ytmm9940j564xd698kgmm00000gn/T/ipykernel_18953/3895760197.py:2: FutureWarning: Dropping invalid columns in DataFrameGroupBy.transform is deprecated. In a future version, a TypeError will be raised. Before calling .transform, select only columns which should be valid for the function.\n",
      "  df.groupby('ad_channel').transform(lambda x: sum(x))\n"
     ]
    },
    {
     "data": {
      "text/html": [
       "<div>\n",
       "<style scoped>\n",
       "    .dataframe tbody tr th:only-of-type {\n",
       "        vertical-align: middle;\n",
       "    }\n",
       "\n",
       "    .dataframe tbody tr th {\n",
       "        vertical-align: top;\n",
       "    }\n",
       "\n",
       "    .dataframe thead th {\n",
       "        text-align: right;\n",
       "    }\n",
       "</style>\n",
       "<table border=\"1\" class=\"dataframe\">\n",
       "  <thead>\n",
       "    <tr style=\"text-align: right;\">\n",
       "      <th></th>\n",
       "      <th>daily_visitors</th>\n",
       "    </tr>\n",
       "  </thead>\n",
       "  <tbody>\n",
       "    <tr>\n",
       "      <th>0</th>\n",
       "      <td>778103</td>\n",
       "    </tr>\n",
       "    <tr>\n",
       "      <th>1</th>\n",
       "      <td>778735</td>\n",
       "    </tr>\n",
       "    <tr>\n",
       "      <th>2</th>\n",
       "      <td>778712</td>\n",
       "    </tr>\n",
       "    <tr>\n",
       "      <th>3</th>\n",
       "      <td>778707</td>\n",
       "    </tr>\n",
       "    <tr>\n",
       "      <th>4</th>\n",
       "      <td>778731</td>\n",
       "    </tr>\n",
       "    <tr>\n",
       "      <th>...</th>\n",
       "      <td>...</td>\n",
       "    </tr>\n",
       "    <tr>\n",
       "      <th>1483</th>\n",
       "      <td>778735</td>\n",
       "    </tr>\n",
       "    <tr>\n",
       "      <th>1484</th>\n",
       "      <td>778712</td>\n",
       "    </tr>\n",
       "    <tr>\n",
       "      <th>1485</th>\n",
       "      <td>778707</td>\n",
       "    </tr>\n",
       "    <tr>\n",
       "      <th>1486</th>\n",
       "      <td>778731</td>\n",
       "    </tr>\n",
       "    <tr>\n",
       "      <th>1487</th>\n",
       "      <td>1182578</td>\n",
       "    </tr>\n",
       "  </tbody>\n",
       "</table>\n",
       "<p>1488 rows × 1 columns</p>\n",
       "</div>"
      ],
      "text/plain": [
       "      daily_visitors\n",
       "0             778103\n",
       "1             778735\n",
       "2             778712\n",
       "3             778707\n",
       "4             778731\n",
       "...              ...\n",
       "1483          778735\n",
       "1484          778712\n",
       "1485          778707\n",
       "1486          778731\n",
       "1487         1182578\n",
       "\n",
       "[1488 rows x 1 columns]"
      ]
     },
     "execution_count": 32,
     "metadata": {},
     "output_type": "execute_result"
    }
   ],
   "source": [
    "# transform() \n",
    "df.groupby('ad_channel').transform(lambda x: sum(x)) "
   ]
  },
  {
   "cell_type": "code",
   "execution_count": 37,
   "metadata": {},
   "outputs": [],
   "source": [
    "df['rolling_average'] = df.groupby('ad_channel')['daily_visitors'].transform(lambda x: x.rolling(7).mean())"
   ]
  },
  {
   "cell_type": "code",
   "execution_count": 47,
   "metadata": {},
   "outputs": [],
   "source": [
    "df['cumulative_sum'] = df.groupby('ad_channel')['daily_visitors'].transform(lambda x: x.expanding().sum())"
   ]
  },
  {
   "cell_type": "code",
   "execution_count": 69,
   "metadata": {},
   "outputs": [
    {
     "data": {
      "text/plain": [
       "0            46.0\n",
       "1            55.0\n",
       "2            53.0\n",
       "3            55.0\n",
       "4            50.0\n",
       "          ...    \n",
       "1483     778735.0\n",
       "1484     778712.0\n",
       "1485     778707.0\n",
       "1486     778731.0\n",
       "1487    1182578.0\n",
       "Name: daily_visitors, Length: 1488, dtype: float64"
      ]
     },
     "execution_count": 69,
     "metadata": {},
     "output_type": "execute_result"
    }
   ],
   "source": [
    "df.groupby('ad_channel')['daily_visitors'].transform(lambda x: x.expanding().sum())"
   ]
  },
  {
   "cell_type": "code",
   "execution_count": 70,
   "metadata": {},
   "outputs": [
    {
     "data": {
      "text/plain": [
       "ad_channel      \n",
       "facebook    0           46.0\n",
       "            6          123.0\n",
       "            12         232.0\n",
       "            18         357.0\n",
       "            24         514.0\n",
       "                      ...   \n",
       "youtube     1460    753948.0\n",
       "            1466    760103.0\n",
       "            1472    766282.0\n",
       "            1478    772486.0\n",
       "            1484    778712.0\n",
       "Name: daily_visitors, Length: 1488, dtype: float64"
      ]
     },
     "execution_count": 70,
     "metadata": {},
     "output_type": "execute_result"
    }
   ],
   "source": [
    "df.groupby('ad_channel')['daily_visitors'].expanding().sum()\n"
   ]
  },
  {
   "cell_type": "code",
   "execution_count": 64,
   "metadata": {},
   "outputs": [],
   "source": [
    "# shift\n",
    "\n",
    "# foo = df.head()[['daily_visitors']]\n",
    "# foo['yesterday_visitors'] = foo['daily_visitors'].shift(1)\n",
    "# foo['delta'] = foo['daily_visitors'] - foo['yesterday_visitors']\n",
    "# foo\n",
    "\n",
    "df['yesterday_visitors'] = df.groupby('ad_channel')['daily_visitors'].shift(1)\n"
   ]
  },
  {
   "cell_type": "code",
   "execution_count": 67,
   "metadata": {},
   "outputs": [],
   "source": [
    "df['delta'] = df['daily_visitors'] - df['yesterday_visitors']"
   ]
  },
  {
   "cell_type": "code",
   "execution_count": 68,
   "metadata": {},
   "outputs": [
    {
     "data": {
      "text/html": [
       "<div>\n",
       "<style scoped>\n",
       "    .dataframe tbody tr th:only-of-type {\n",
       "        vertical-align: middle;\n",
       "    }\n",
       "\n",
       "    .dataframe tbody tr th {\n",
       "        vertical-align: top;\n",
       "    }\n",
       "\n",
       "    .dataframe thead th {\n",
       "        text-align: right;\n",
       "    }\n",
       "</style>\n",
       "<table border=\"1\" class=\"dataframe\">\n",
       "  <thead>\n",
       "    <tr style=\"text-align: right;\">\n",
       "      <th></th>\n",
       "      <th>date</th>\n",
       "      <th>ad_channel</th>\n",
       "      <th>daily_visitors</th>\n",
       "      <th>rolling_average</th>\n",
       "      <th>cumulative_sum</th>\n",
       "      <th>yesterday_visitors</th>\n",
       "      <th>delta</th>\n",
       "    </tr>\n",
       "  </thead>\n",
       "  <tbody>\n",
       "    <tr>\n",
       "      <th>0</th>\n",
       "      <td>2023-01-01</td>\n",
       "      <td>facebook</td>\n",
       "      <td>46</td>\n",
       "      <td>NaN</td>\n",
       "      <td>46.0</td>\n",
       "      <td>NaN</td>\n",
       "      <td>NaN</td>\n",
       "    </tr>\n",
       "    <tr>\n",
       "      <th>6</th>\n",
       "      <td>2023-01-02</td>\n",
       "      <td>facebook</td>\n",
       "      <td>77</td>\n",
       "      <td>NaN</td>\n",
       "      <td>123.0</td>\n",
       "      <td>46.0</td>\n",
       "      <td>31.0</td>\n",
       "    </tr>\n",
       "    <tr>\n",
       "      <th>12</th>\n",
       "      <td>2023-01-03</td>\n",
       "      <td>facebook</td>\n",
       "      <td>109</td>\n",
       "      <td>NaN</td>\n",
       "      <td>232.0</td>\n",
       "      <td>77.0</td>\n",
       "      <td>32.0</td>\n",
       "    </tr>\n",
       "    <tr>\n",
       "      <th>18</th>\n",
       "      <td>2023-01-04</td>\n",
       "      <td>facebook</td>\n",
       "      <td>125</td>\n",
       "      <td>NaN</td>\n",
       "      <td>357.0</td>\n",
       "      <td>109.0</td>\n",
       "      <td>16.0</td>\n",
       "    </tr>\n",
       "    <tr>\n",
       "      <th>24</th>\n",
       "      <td>2023-01-05</td>\n",
       "      <td>facebook</td>\n",
       "      <td>157</td>\n",
       "      <td>NaN</td>\n",
       "      <td>514.0</td>\n",
       "      <td>125.0</td>\n",
       "      <td>32.0</td>\n",
       "    </tr>\n",
       "    <tr>\n",
       "      <th>30</th>\n",
       "      <td>2023-01-06</td>\n",
       "      <td>facebook</td>\n",
       "      <td>179</td>\n",
       "      <td>NaN</td>\n",
       "      <td>693.0</td>\n",
       "      <td>157.0</td>\n",
       "      <td>22.0</td>\n",
       "    </tr>\n",
       "    <tr>\n",
       "      <th>36</th>\n",
       "      <td>2023-01-07</td>\n",
       "      <td>facebook</td>\n",
       "      <td>201</td>\n",
       "      <td>127.714286</td>\n",
       "      <td>894.0</td>\n",
       "      <td>179.0</td>\n",
       "      <td>22.0</td>\n",
       "    </tr>\n",
       "    <tr>\n",
       "      <th>42</th>\n",
       "      <td>2023-01-08</td>\n",
       "      <td>facebook</td>\n",
       "      <td>229</td>\n",
       "      <td>153.857143</td>\n",
       "      <td>1123.0</td>\n",
       "      <td>201.0</td>\n",
       "      <td>28.0</td>\n",
       "    </tr>\n",
       "    <tr>\n",
       "      <th>48</th>\n",
       "      <td>2023-01-09</td>\n",
       "      <td>facebook</td>\n",
       "      <td>242</td>\n",
       "      <td>177.428571</td>\n",
       "      <td>1365.0</td>\n",
       "      <td>229.0</td>\n",
       "      <td>13.0</td>\n",
       "    </tr>\n",
       "    <tr>\n",
       "      <th>54</th>\n",
       "      <td>2023-01-10</td>\n",
       "      <td>facebook</td>\n",
       "      <td>273</td>\n",
       "      <td>200.857143</td>\n",
       "      <td>1638.0</td>\n",
       "      <td>242.0</td>\n",
       "      <td>31.0</td>\n",
       "    </tr>\n",
       "  </tbody>\n",
       "</table>\n",
       "</div>"
      ],
      "text/plain": [
       "          date ad_channel  daily_visitors  rolling_average  cumulative_sum  \\\n",
       "0   2023-01-01   facebook              46              NaN            46.0   \n",
       "6   2023-01-02   facebook              77              NaN           123.0   \n",
       "12  2023-01-03   facebook             109              NaN           232.0   \n",
       "18  2023-01-04   facebook             125              NaN           357.0   \n",
       "24  2023-01-05   facebook             157              NaN           514.0   \n",
       "30  2023-01-06   facebook             179              NaN           693.0   \n",
       "36  2023-01-07   facebook             201       127.714286           894.0   \n",
       "42  2023-01-08   facebook             229       153.857143          1123.0   \n",
       "48  2023-01-09   facebook             242       177.428571          1365.0   \n",
       "54  2023-01-10   facebook             273       200.857143          1638.0   \n",
       "\n",
       "    yesterday_visitors  delta  \n",
       "0                  NaN    NaN  \n",
       "6                 46.0   31.0  \n",
       "12                77.0   32.0  \n",
       "18               109.0   16.0  \n",
       "24               125.0   32.0  \n",
       "30               157.0   22.0  \n",
       "36               179.0   22.0  \n",
       "42               201.0   28.0  \n",
       "48               229.0   13.0  \n",
       "54               242.0   31.0  "
      ]
     },
     "execution_count": 68,
     "metadata": {},
     "output_type": "execute_result"
    }
   ],
   "source": [
    "df.sort_values(['ad_channel', 'date']).head(10)"
   ]
  },
  {
   "cell_type": "code",
   "execution_count": null,
   "metadata": {},
   "outputs": [],
   "source": []
  }
 ],
 "metadata": {
  "kernelspec": {
   "display_name": "data",
   "language": "python",
   "name": "python3"
  },
  "language_info": {
   "codemirror_mode": {
    "name": "ipython",
    "version": 3
   },
   "file_extension": ".py",
   "mimetype": "text/x-python",
   "name": "python",
   "nbconvert_exporter": "python",
   "pygments_lexer": "ipython3",
   "version": "3.9.6"
  },
  "orig_nbformat": 4
 },
 "nbformat": 4,
 "nbformat_minor": 2
}
