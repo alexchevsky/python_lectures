{
 "cells": [
  {
   "cell_type": "code",
   "execution_count": 1,
   "metadata": {},
   "outputs": [],
   "source": [
    "import pandas as pd"
   ]
  },
  {
   "cell_type": "code",
   "execution_count": 28,
   "metadata": {},
   "outputs": [
    {
     "data": {
      "text/html": [
       "<div>\n",
       "<style scoped>\n",
       "    .dataframe tbody tr th:only-of-type {\n",
       "        vertical-align: middle;\n",
       "    }\n",
       "\n",
       "    .dataframe tbody tr th {\n",
       "        vertical-align: top;\n",
       "    }\n",
       "\n",
       "    .dataframe thead th {\n",
       "        text-align: right;\n",
       "    }\n",
       "</style>\n",
       "<table border=\"1\" class=\"dataframe\">\n",
       "  <thead>\n",
       "    <tr style=\"text-align: right;\">\n",
       "      <th></th>\n",
       "      <th></th>\n",
       "      <th></th>\n",
       "      <th>impressions</th>\n",
       "      <th>clicks</th>\n",
       "      <th>ad_spend</th>\n",
       "    </tr>\n",
       "    <tr>\n",
       "      <th>date</th>\n",
       "      <th>ad_channel</th>\n",
       "      <th>country</th>\n",
       "      <th></th>\n",
       "      <th></th>\n",
       "      <th></th>\n",
       "    </tr>\n",
       "  </thead>\n",
       "  <tbody>\n",
       "    <tr>\n",
       "      <th rowspan=\"4\" valign=\"top\">2018-06-01</th>\n",
       "      <th>facebook</th>\n",
       "      <th>Argentina</th>\n",
       "      <td>208</td>\n",
       "      <td>208</td>\n",
       "      <td>89.00</td>\n",
       "    </tr>\n",
       "    <tr>\n",
       "      <th rowspan=\"3\" valign=\"top\">instagram</th>\n",
       "      <th>Argentina</th>\n",
       "      <td>341</td>\n",
       "      <td>341</td>\n",
       "      <td>118.82</td>\n",
       "    </tr>\n",
       "    <tr>\n",
       "      <th>France</th>\n",
       "      <td>300</td>\n",
       "      <td>300</td>\n",
       "      <td>105.88</td>\n",
       "    </tr>\n",
       "    <tr>\n",
       "      <th>UK</th>\n",
       "      <td>288</td>\n",
       "      <td>288</td>\n",
       "      <td>107.06</td>\n",
       "    </tr>\n",
       "    <tr>\n",
       "      <th>2018-06-02</th>\n",
       "      <th>facebook</th>\n",
       "      <th>China</th>\n",
       "      <td>186</td>\n",
       "      <td>186</td>\n",
       "      <td>100.00</td>\n",
       "    </tr>\n",
       "  </tbody>\n",
       "</table>\n",
       "</div>"
      ],
      "text/plain": [
       "                                 impressions  clicks  ad_spend\n",
       "date       ad_channel country                                 \n",
       "2018-06-01 facebook   Argentina          208     208     89.00\n",
       "           instagram  Argentina          341     341    118.82\n",
       "                      France             300     300    105.88\n",
       "                      UK                 288     288    107.06\n",
       "2018-06-02 facebook   China              186     186    100.00"
      ]
     },
     "execution_count": 28,
     "metadata": {},
     "output_type": "execute_result"
    }
   ],
   "source": [
    "df = pd.read_csv('ads.csv', index_col=['date', 'ad_channel', 'country'])\n",
    "df.head()"
   ]
  },
  {
   "cell_type": "code",
   "execution_count": 27,
   "metadata": {},
   "outputs": [
    {
     "data": {
      "text/plain": [
       "722200.01"
      ]
     },
     "execution_count": 27,
     "metadata": {},
     "output_type": "execute_result"
    }
   ],
   "source": [
    "# агрегирование серий\n",
    "# sum, count, min, max, mean, std, median, idxmax\n",
    "df['ad_spend'].sum()\n"
   ]
  },
  {
   "cell_type": "code",
   "execution_count": 40,
   "metadata": {},
   "outputs": [
    {
     "data": {
      "text/plain": [
       "impressions    298.993910\n",
       "clicks         298.993910\n",
       "ad_spend       146.609827\n",
       "dtype: float64"
      ]
     },
     "execution_count": 40,
     "metadata": {},
     "output_type": "execute_result"
    }
   ],
   "source": [
    "# агрегирование датафреймов\n",
    "df.mean()"
   ]
  },
  {
   "cell_type": "code",
   "execution_count": 65,
   "metadata": {},
   "outputs": [
    {
     "data": {
      "text/html": [
       "<div>\n",
       "<style scoped>\n",
       "    .dataframe tbody tr th:only-of-type {\n",
       "        vertical-align: middle;\n",
       "    }\n",
       "\n",
       "    .dataframe tbody tr th {\n",
       "        vertical-align: top;\n",
       "    }\n",
       "\n",
       "    .dataframe thead tr th {\n",
       "        text-align: left;\n",
       "    }\n",
       "\n",
       "    .dataframe thead tr:last-of-type th {\n",
       "        text-align: right;\n",
       "    }\n",
       "</style>\n",
       "<table border=\"1\" class=\"dataframe\">\n",
       "  <thead>\n",
       "    <tr>\n",
       "      <th></th>\n",
       "      <th colspan=\"2\" halign=\"left\">impressions</th>\n",
       "      <th colspan=\"2\" halign=\"left\">ad_spend</th>\n",
       "    </tr>\n",
       "    <tr>\n",
       "      <th></th>\n",
       "      <th>sum</th>\n",
       "      <th>count</th>\n",
       "      <th>sum</th>\n",
       "      <th>mean</th>\n",
       "    </tr>\n",
       "    <tr>\n",
       "      <th>ad_channel</th>\n",
       "      <th></th>\n",
       "      <th></th>\n",
       "      <th></th>\n",
       "      <th></th>\n",
       "    </tr>\n",
       "  </thead>\n",
       "  <tbody>\n",
       "    <tr>\n",
       "      <th>facebook</th>\n",
       "      <td>447280</td>\n",
       "      <td>1713</td>\n",
       "      <td>268560.82</td>\n",
       "      <td>156.778062</td>\n",
       "    </tr>\n",
       "    <tr>\n",
       "      <th>google</th>\n",
       "      <td>138433</td>\n",
       "      <td>928</td>\n",
       "      <td>33193.54</td>\n",
       "      <td>35.768901</td>\n",
       "    </tr>\n",
       "    <tr>\n",
       "      <th>instagram</th>\n",
       "      <td>887131</td>\n",
       "      <td>2285</td>\n",
       "      <td>420445.65</td>\n",
       "      <td>184.002473</td>\n",
       "    </tr>\n",
       "  </tbody>\n",
       "</table>\n",
       "</div>"
      ],
      "text/plain": [
       "           impressions         ad_spend            \n",
       "                   sum count        sum        mean\n",
       "ad_channel                                         \n",
       "facebook        447280  1713  268560.82  156.778062\n",
       "google          138433   928   33193.54   35.768901\n",
       "instagram       887131  2285  420445.65  184.002473"
      ]
     },
     "execution_count": 65,
     "metadata": {},
     "output_type": "execute_result"
    }
   ],
   "source": [
    "# группировка\n",
    "\n",
    "df.groupby('ad_channel').agg(\n",
    "    {'impressions': ['sum', 'count'],\n",
    "     'ad_spend': ['sum', 'mean']}\n",
    ")"
   ]
  },
  {
   "cell_type": "code",
   "execution_count": 69,
   "metadata": {},
   "outputs": [
    {
     "data": {
      "text/html": [
       "<div>\n",
       "<style scoped>\n",
       "    .dataframe tbody tr th:only-of-type {\n",
       "        vertical-align: middle;\n",
       "    }\n",
       "\n",
       "    .dataframe tbody tr th {\n",
       "        vertical-align: top;\n",
       "    }\n",
       "\n",
       "    .dataframe thead th {\n",
       "        text-align: right;\n",
       "    }\n",
       "</style>\n",
       "<table border=\"1\" class=\"dataframe\">\n",
       "  <thead>\n",
       "    <tr style=\"text-align: right;\">\n",
       "      <th></th>\n",
       "      <th>total_impressions</th>\n",
       "      <th>avg_daily_spend</th>\n",
       "    </tr>\n",
       "    <tr>\n",
       "      <th>ad_channel</th>\n",
       "      <th></th>\n",
       "      <th></th>\n",
       "    </tr>\n",
       "  </thead>\n",
       "  <tbody>\n",
       "    <tr>\n",
       "      <th>facebook</th>\n",
       "      <td>447280</td>\n",
       "      <td>156.778062</td>\n",
       "    </tr>\n",
       "    <tr>\n",
       "      <th>google</th>\n",
       "      <td>138433</td>\n",
       "      <td>35.768901</td>\n",
       "    </tr>\n",
       "    <tr>\n",
       "      <th>instagram</th>\n",
       "      <td>887131</td>\n",
       "      <td>184.002473</td>\n",
       "    </tr>\n",
       "  </tbody>\n",
       "</table>\n",
       "</div>"
      ],
      "text/plain": [
       "            total_impressions  avg_daily_spend\n",
       "ad_channel                                    \n",
       "facebook               447280       156.778062\n",
       "google                 138433        35.768901\n",
       "instagram              887131       184.002473"
      ]
     },
     "execution_count": 69,
     "metadata": {},
     "output_type": "execute_result"
    }
   ],
   "source": [
    "df.groupby('ad_channel').agg(\n",
    "    total_impressions = ('impressions', 'sum'),\n",
    "    avg_daily_spend = ('ad_spend', 'mean')\n",
    ")"
   ]
  },
  {
   "cell_type": "code",
   "execution_count": 88,
   "metadata": {},
   "outputs": [
    {
     "data": {
      "text/plain": [
       "country\n",
       "Argentina    0.083971\n",
       "Brazil       0.517457\n",
       "Canada       0.608654\n",
       "China        0.141414\n",
       "Danmark      0.795527\n",
       "France       0.697039\n",
       "Germany      1.198965\n",
       "India        0.082549\n",
       "Spain        0.717842\n",
       "Sweden       1.154474\n",
       "UK           0.818655\n",
       "US           1.014910\n",
       "dtype: float64"
      ]
     },
     "execution_count": 88,
     "metadata": {},
     "output_type": "execute_result"
    }
   ],
   "source": [
    "rev_per_click = {\n",
    "    'Argentina': 0.04,\n",
    "    'France': 0.35,\n",
    "    'UK': 0.4,\n",
    "    'China': 0.07,\n",
    "    'Danmark': 0.4,\n",
    "    'US': 0.5,\n",
    "    'Germany': 0.6,\n",
    "    'Sweden': 0.56,\n",
    "    'Canada': 0.3,\n",
    "    'Spain': 0.34,\n",
    "    'Brazil': 0.25,\n",
    "    'India': 0.04,\n",
    "}\n",
    "\n",
    "def calculate_roi(group):\n",
    "    country = group.reset_index()['country'].iloc[0]\n",
    "    clicks = group['clicks'].sum()\n",
    "    ad_spend = group['ad_spend'].sum()\n",
    "    revenue = clicks * rev_per_click[country]\n",
    "    roi = revenue / ad_spend\n",
    "    return roi\n",
    "\n",
    "df.groupby('country').apply(calculate_roi)"
   ]
  },
  {
   "cell_type": "code",
   "execution_count": 91,
   "metadata": {},
   "outputs": [
    {
     "data": {
      "text/plain": [
       "country\n",
       "Germany      1.198965\n",
       "Sweden       1.154474\n",
       "US           1.014910\n",
       "UK           0.818655\n",
       "Danmark      0.795527\n",
       "Spain        0.717842\n",
       "France       0.697039\n",
       "Canada       0.608654\n",
       "Brazil       0.517457\n",
       "China        0.141414\n",
       "Argentina    0.083971\n",
       "India        0.082549\n",
       "dtype: float64"
      ]
     },
     "execution_count": 91,
     "metadata": {},
     "output_type": "execute_result"
    }
   ],
   "source": [
    "# сортировка\n",
    "# .sort_values()\n",
    "# .sort_index()\n",
    "\n",
    "df.groupby('country').apply(calculate_roi).sort_values(ascending=False)"
   ]
  },
  {
   "cell_type": "code",
   "execution_count": 94,
   "metadata": {},
   "outputs": [
    {
     "data": {
      "text/plain": [
       "country\n",
       "Germany      1.198965\n",
       "Sweden       1.154474\n",
       "US           1.014910\n",
       "UK           0.818655\n",
       "Danmark      0.795527\n",
       "Spain        0.717842\n",
       "France       0.697039\n",
       "Canada       0.608654\n",
       "Brazil       0.517457\n",
       "China        0.141414\n",
       "Argentina    0.083971\n",
       "India        0.082549\n",
       "dtype: float64"
      ]
     },
     "execution_count": 94,
     "metadata": {},
     "output_type": "execute_result"
    }
   ],
   "source": [
    "(\n",
    "    df\n",
    "    .groupby('country')\n",
    "    .apply(calculate_roi)\n",
    "    .sort_values(ascending=False)\n",
    ")"
   ]
  },
  {
   "cell_type": "code",
   "execution_count": null,
   "metadata": {},
   "outputs": [],
   "source": []
  }
 ],
 "metadata": {
  "kernelspec": {
   "display_name": "data",
   "language": "python",
   "name": "python3"
  },
  "language_info": {
   "codemirror_mode": {
    "name": "ipython",
    "version": 3
   },
   "file_extension": ".py",
   "mimetype": "text/x-python",
   "name": "python",
   "nbconvert_exporter": "python",
   "pygments_lexer": "ipython3",
   "version": "3.9.6"
  },
  "orig_nbformat": 4
 },
 "nbformat": 4,
 "nbformat_minor": 2
}
