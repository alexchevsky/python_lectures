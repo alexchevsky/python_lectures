{
 "cells": [
  {
   "cell_type": "code",
   "execution_count": 52,
   "metadata": {},
   "outputs": [
    {
     "data": {
      "text/plain": [
       "True"
      ]
     },
     "execution_count": 52,
     "metadata": {},
     "output_type": "execute_result"
    }
   ],
   "source": [
    "import os\n",
    "import requests\n",
    "import pandas as pd\n",
    "import gspread\n",
    "\n",
    "from dotenv import load_dotenv\n",
    "load_dotenv()\n",
    "\n"
   ]
  },
  {
   "cell_type": "code",
   "execution_count": 122,
   "metadata": {},
   "outputs": [],
   "source": [
    "# 1. забираем лиды из Google Forms\n",
    "\n",
    "FORM_WORKSHEET = 'Сборщик лидов (Responses)'\n",
    "REPORT_WORKSHEET = 'Leads Report'\n",
    "\n",
    "telegram_token = os.getenv('telegram_token')\n",
    "telegram_chat_id = os.getenv('telegram_chat_id')"
   ]
  },
  {
   "cell_type": "code",
   "execution_count": 123,
   "metadata": {},
   "outputs": [],
   "source": [
    "gc = gspread.service_account('credentials.json')\n",
    "worksheet = gc.open(FORM_WORKSHEET).sheet1\n",
    "form_leads = pd.DataFrame(worksheet.get_all_records())\n",
    "\n",
    "form_leads.columns = ['timestamp', 'email', 'company_size', 'city']\n",
    "form_leads['timestamp'] = pd.to_datetime(form_leads['timestamp'])\n",
    "form_leads['dt'] = form_leads['timestamp'].dt.date\n",
    "form_leads['year_month'] = form_leads['timestamp'].dt.to_period('M')"
   ]
  },
  {
   "cell_type": "code",
   "execution_count": 124,
   "metadata": {},
   "outputs": [],
   "source": [
    "# 2. скачиваем текущие лиды из отчета\n",
    "\n",
    "worksheet = gc.open(REPORT_WORKSHEET).worksheet('Leads')\n",
    "report_leads = pd.DataFrame(worksheet.get_all_records())\n",
    "\n"
   ]
  },
  {
   "cell_type": "code",
   "execution_count": 125,
   "metadata": {},
   "outputs": [
    {
     "data": {
      "text/html": [
       "<div>\n",
       "<style scoped>\n",
       "    .dataframe tbody tr th:only-of-type {\n",
       "        vertical-align: middle;\n",
       "    }\n",
       "\n",
       "    .dataframe tbody tr th {\n",
       "        vertical-align: top;\n",
       "    }\n",
       "\n",
       "    .dataframe thead th {\n",
       "        text-align: right;\n",
       "    }\n",
       "</style>\n",
       "<table border=\"1\" class=\"dataframe\">\n",
       "  <thead>\n",
       "    <tr style=\"text-align: right;\">\n",
       "      <th></th>\n",
       "      <th>timestamp</th>\n",
       "      <th>email</th>\n",
       "      <th>company_size</th>\n",
       "      <th>city</th>\n",
       "      <th>dt</th>\n",
       "      <th>year_month</th>\n",
       "    </tr>\n",
       "  </thead>\n",
       "  <tbody>\n",
       "  </tbody>\n",
       "</table>\n",
       "</div>"
      ],
      "text/plain": [
       "Empty DataFrame\n",
       "Columns: [timestamp, email, company_size, city, dt, year_month]\n",
       "Index: []"
      ]
     },
     "execution_count": 125,
     "metadata": {},
     "output_type": "execute_result"
    }
   ],
   "source": [
    "# 3. сравниваем форму и отчет, находим новые лиды \n",
    "\n",
    "merged_leads = form_leads.merge(\n",
    "    report_leads, \n",
    "    how='left', \n",
    "    on='email', \n",
    "    suffixes=('', '_drop'),\n",
    "    indicator=True)\n",
    "\n",
    "new_leads = merged_leads[merged_leads['_merge'] == 'left_only'][form_leads.columns]\n",
    "new_leads\n"
   ]
  },
  {
   "cell_type": "code",
   "execution_count": 126,
   "metadata": {},
   "outputs": [
    {
     "data": {
      "text/plain": [
       "<Response [200]>"
      ]
     },
     "execution_count": 126,
     "metadata": {},
     "output_type": "execute_result"
    }
   ],
   "source": [
    "# 4. отправляем сообщение в телеграм\n",
    "\n",
    "def leads_to_text(df):\n",
    "    output = []\n",
    "    for df_line in df.iterrows():\n",
    "        row = df_line[1]\n",
    "        output.append(f\"{row['email']} - {row['company_size']} - {row['city']}\")\n",
    "    return '\\n'.join(output)\n",
    "\n",
    "message = 'New Leads:\\n' + leads_to_text(new_leads)\n",
    "\n",
    "url = f\"https://api.telegram.org/bot{telegram_token}/sendMessage\"\n",
    "payload = {\n",
    "    'chat_id': telegram_chat_id,\n",
    "    'text': message\n",
    "}\n",
    "\n",
    "response = requests.post(url, data=payload)\n",
    "response\n",
    "\n"
   ]
  },
  {
   "cell_type": "code",
   "execution_count": 127,
   "metadata": {},
   "outputs": [
    {
     "name": "stderr",
     "output_type": "stream",
     "text": [
      "/var/folders/s_/t8ytmm9940j564xd698kgmm00000gn/T/ipykernel_76994/2536004802.py:4: DeprecationWarning: [Deprecated][in version 6.0.0]: Method signature's arguments 'range_name' and 'values' will change their order. We recommend using named arguments for minimal impact. In addition, the argument 'values' will be mandatory of type: 'List[List]'. (ex) Worksheet.update(values = [[]], range_name=) \n",
      "  worksheet.update([form_leads.astype('str').columns.values.tolist()] + form_leads.astype('str').values.tolist())\n"
     ]
    },
    {
     "data": {
      "text/plain": [
       "{'spreadsheetId': '1ApyyiCups2STIPdFjdesxabwHuKuZ9cnXGuR3ik2TOk',\n",
       " 'updatedRange': 'Leads!A1:F5',\n",
       " 'updatedRows': 5,\n",
       " 'updatedColumns': 6,\n",
       " 'updatedCells': 30}"
      ]
     },
     "execution_count": 127,
     "metadata": {},
     "output_type": "execute_result"
    }
   ],
   "source": [
    "# 2. загружаем новые лиды в отчет\n",
    "\n",
    "worksheet = gc.open(REPORT_WORKSHEET).worksheet('Leads')\n",
    "worksheet.update([form_leads.astype('str').columns.values.tolist()] + form_leads.astype('str').values.tolist())"
   ]
  },
  {
   "cell_type": "code",
   "execution_count": 97,
   "metadata": {},
   "outputs": [
    {
     "data": {
      "text/plain": [
       "<Response [200]>"
      ]
     },
     "execution_count": 97,
     "metadata": {},
     "output_type": "execute_result"
    }
   ],
   "source": []
  },
  {
   "cell_type": "code",
   "execution_count": null,
   "metadata": {},
   "outputs": [],
   "source": []
  },
  {
   "cell_type": "code",
   "execution_count": null,
   "metadata": {},
   "outputs": [],
   "source": []
  }
 ],
 "metadata": {
  "kernelspec": {
   "display_name": "venv",
   "language": "python",
   "name": "python3"
  },
  "language_info": {
   "codemirror_mode": {
    "name": "ipython",
    "version": 3
   },
   "file_extension": ".py",
   "mimetype": "text/x-python",
   "name": "python",
   "nbconvert_exporter": "python",
   "pygments_lexer": "ipython3",
   "version": "3.9.17"
  }
 },
 "nbformat": 4,
 "nbformat_minor": 2
}
