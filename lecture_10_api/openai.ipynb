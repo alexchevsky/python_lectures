{
 "cells": [
  {
   "cell_type": "code",
   "execution_count": 10,
   "metadata": {},
   "outputs": [],
   "source": [
    "import os\n",
    "import requests\n",
    "from dotenv import load_dotenv\n",
    "from openai import OpenAI\n",
    "import pandas as pd\n",
    "\n",
    "load_dotenv()\n",
    "\n",
    "client = OpenAI()"
   ]
  },
  {
   "cell_type": "code",
   "execution_count": 31,
   "metadata": {},
   "outputs": [
    {
     "data": {
      "text/html": [
       "<div>\n",
       "<style scoped>\n",
       "    .dataframe tbody tr th:only-of-type {\n",
       "        vertical-align: middle;\n",
       "    }\n",
       "\n",
       "    .dataframe tbody tr th {\n",
       "        vertical-align: top;\n",
       "    }\n",
       "\n",
       "    .dataframe thead th {\n",
       "        text-align: right;\n",
       "    }\n",
       "</style>\n",
       "<table border=\"1\" class=\"dataframe\">\n",
       "  <thead>\n",
       "    <tr style=\"text-align: right;\">\n",
       "      <th></th>\n",
       "      <th>payment_id</th>\n",
       "      <th>user_id</th>\n",
       "      <th>created_at</th>\n",
       "      <th>payment_sum</th>\n",
       "    </tr>\n",
       "  </thead>\n",
       "  <tbody>\n",
       "    <tr>\n",
       "      <th>0</th>\n",
       "      <td>2</td>\n",
       "      <td>2</td>\n",
       "      <td>2019-12-09 16:57:19.000</td>\n",
       "      <td>42.26</td>\n",
       "    </tr>\n",
       "    <tr>\n",
       "      <th>1</th>\n",
       "      <td>4</td>\n",
       "      <td>4</td>\n",
       "      <td>2019-12-10 03:49:35.000</td>\n",
       "      <td>18.25</td>\n",
       "    </tr>\n",
       "    <tr>\n",
       "      <th>2</th>\n",
       "      <td>6</td>\n",
       "      <td>6</td>\n",
       "      <td>2019-12-12 00:19:08.000</td>\n",
       "      <td>10.52</td>\n",
       "    </tr>\n",
       "    <tr>\n",
       "      <th>3</th>\n",
       "      <td>7</td>\n",
       "      <td>7</td>\n",
       "      <td>2019-12-13 15:15:30.000</td>\n",
       "      <td>14.02</td>\n",
       "    </tr>\n",
       "    <tr>\n",
       "      <th>4</th>\n",
       "      <td>8</td>\n",
       "      <td>8</td>\n",
       "      <td>2019-12-14 00:02:06.000</td>\n",
       "      <td>10.78</td>\n",
       "    </tr>\n",
       "  </tbody>\n",
       "</table>\n",
       "</div>"
      ],
      "text/plain": [
       "   payment_id  user_id               created_at  payment_sum\n",
       "0           2        2  2019-12-09 16:57:19.000        42.26\n",
       "1           4        4  2019-12-10 03:49:35.000        18.25\n",
       "2           6        6  2019-12-12 00:19:08.000        10.52\n",
       "3           7        7  2019-12-13 15:15:30.000        14.02\n",
       "4           8        8  2019-12-14 00:02:06.000        10.78"
      ]
     },
     "execution_count": 31,
     "metadata": {},
     "output_type": "execute_result"
    }
   ],
   "source": [
    "file_path = 'orders.csv'\n",
    "data = pd.read_csv(file_path)\n",
    "data.head()"
   ]
  },
  {
   "cell_type": "code",
   "execution_count": 33,
   "metadata": {},
   "outputs": [],
   "source": [
    "completion = client.chat.completions.create(\n",
    "    model=\"gpt-4-1106-preview\",\n",
    "    messages=[\n",
    "        {\"role\": \"system\", \"content\": \"You are a data analyst with loads of experience\"},\n",
    "        {\"role\": \"user\", \"content\": f\"Generate helpful insights for the following data:\\n{data.head(5000).to_csv(index=None)}\"}\n",
    "    ]\n",
    ")"
   ]
  },
  {
   "cell_type": "code",
   "execution_count": 39,
   "metadata": {},
   "outputs": [
    {
     "name": "stdout",
     "output_type": "stream",
     "text": [
      "Based on the provided data timestamps and various IDs, it appears that this data set could relate to some form of transactions or event tracking system, possibly linked to user activity, payments, or orders. The data contain identifiers such as `payment_id` and `user_id`, as well as `created_at` timing information and a numerical `payment_sum`. While specific insights would rely on the context of the data and additional data processing, here are a few general observations and potential actions:\n",
      "\n",
      "1. Time Series Analysis: \n",
      "   - Analyze patterns over time to determine peak hours for transactions and identify any seasonal trends or cyclical behavior.\n",
      "   - Investigate any irregularities or anomalies in the data, such as sudden spikes or drops in transaction amounts.\n",
      "\n",
      "2. User Activity:\n",
      "   - Determine if there are repeat users who contribute a significant portion of transactions and identify their characteristics.\n",
      "   - Look for user engagement patterns, such as frequency and monetary value, to segment users into categories (e.g., new, returning, or high-value users).\n",
      "\n",
      "3. Payment Sum Analysis:\n",
      "   - Calculate the average, median, and mode payment sums to understand typical transaction amounts.\n",
      "   - Identify any outliers in the payment sums that might indicate errors or require further investigation.\n",
      "\n",
      "4. Transaction Volume:\n",
      "   - Determine total transaction volume over selected periods (daily, weekly, monthly).\n",
      "   - Identify any trends in transaction volume growth or decline.\n",
      "\n",
      "5. Data Integrity Checking:\n",
      "   - Verify the completeness and accuracy of the data, looking for missing entries, duplicates, or inconsistencies.\n",
      "\n",
      "6. Cross-Analysis with Other Data:\n",
      "   - If there are other datasets available (e.g., user demographics, product information), integrate and analyze them together to gain a deeper understanding of user behavior and preferences.\n",
      "\n",
      "7. Performance Metrics:\n",
      "   - Develop key performance indicators, such as average transaction value (ATV), frequency of transactions per user, and total payment sums, to help measure business performance over time.\n",
      "\n",
      "It's crucial to remember that this list is not exhaustive, and the insights to be gleaned from the data greatly depend on the context and business goals. Additionally, data privacy and ethical considerations should be taken into account when handling user-related information.\n"
     ]
    }
   ],
   "source": [
    "print(completion.choices[0].message.content)"
   ]
  },
  {
   "cell_type": "code",
   "execution_count": null,
   "metadata": {},
   "outputs": [],
   "source": []
  }
 ],
 "metadata": {
  "kernelspec": {
   "display_name": "data",
   "language": "python",
   "name": "python3"
  },
  "language_info": {
   "codemirror_mode": {
    "name": "ipython",
    "version": 3
   },
   "file_extension": ".py",
   "mimetype": "text/x-python",
   "name": "python",
   "nbconvert_exporter": "python",
   "pygments_lexer": "ipython3",
   "version": "3.9.17"
  }
 },
 "nbformat": 4,
 "nbformat_minor": 2
}
