{
 "cells": [
  {
   "cell_type": "code",
   "execution_count": 21,
   "metadata": {},
   "outputs": [
    {
     "data": {
      "text/plain": [
       "True"
      ]
     },
     "execution_count": 21,
     "metadata": {},
     "output_type": "execute_result"
    }
   ],
   "source": [
    "import os\n",
    "import requests\n",
    "import json\n",
    "from dotenv import load_dotenv\n",
    "load_dotenv()\n",
    "\n",
    "from urllib.parse import urlencode"
   ]
  },
  {
   "cell_type": "code",
   "execution_count": 12,
   "metadata": {},
   "outputs": [],
   "source": [
    "API_VERSION = '5.131'\n",
    "CLIENT_ID = 51812043\n",
    "SECRET_KEY = os.getenv('VK_SECRET_KEY')"
   ]
  },
  {
   "cell_type": "code",
   "execution_count": 8,
   "metadata": {},
   "outputs": [
    {
     "name": "stdout",
     "output_type": "stream",
     "text": [
      "https://oauth.vk.com/authorize?client_id=51812043&redirect_uri=https%3A%2F%2Foauth.vk.com%2Fblank.html&display=page&scope=ads%2Coffline&response_type=code&v=5.131\n"
     ]
    }
   ],
   "source": [
    "auth_url = 'https://oauth.vk.com/authorize'\n",
    "\n",
    "params = {\n",
    "    'client_id': CLIENT_ID,\n",
    "    'redirect_uri': 'https://oauth.vk.com/blank.html',\n",
    "    'display': 'page',\n",
    "    'scope': 'ads,offline',\n",
    "    'response_type': 'code',\n",
    "    'v': API_VERSION,\n",
    "}\n",
    "\n",
    "print(auth_url + '?' + urlencode(params))"
   ]
  },
  {
   "cell_type": "code",
   "execution_count": 9,
   "metadata": {},
   "outputs": [],
   "source": [
    "code = 'c2bdb6350c8239214e'"
   ]
  },
  {
   "cell_type": "code",
   "execution_count": 15,
   "metadata": {},
   "outputs": [
    {
     "data": {
      "text/plain": [
       "<Response [200]>"
      ]
     },
     "execution_count": 15,
     "metadata": {},
     "output_type": "execute_result"
    }
   ],
   "source": [
    "access_token_url = 'https://oauth.vk.com/access_token'\n",
    "\n",
    "params = {\n",
    "    'client_id': CLIENT_ID,\n",
    "    'client_secret': SECRET_KEY,\n",
    "    'redirect_uri': 'https://oauth.vk.com/blank.html',\n",
    "    'code': code,\n",
    "}\n",
    "\n",
    "res = requests.post(access_token_url, params=params)\n",
    "res"
   ]
  },
  {
   "cell_type": "code",
   "execution_count": 17,
   "metadata": {},
   "outputs": [],
   "source": [
    "auth_results = res.json()"
   ]
  },
  {
   "cell_type": "code",
   "execution_count": 23,
   "metadata": {},
   "outputs": [],
   "source": [
    "access_token = auth_results['access_token']\n",
    "user_id = auth_results['user_id']"
   ]
  },
  {
   "cell_type": "code",
   "execution_count": 24,
   "metadata": {},
   "outputs": [],
   "source": [
    "with open('vk_creds.json', 'w') as f:\n",
    "    json.dump(auth_results, f)"
   ]
  },
  {
   "cell_type": "code",
   "execution_count": 35,
   "metadata": {},
   "outputs": [],
   "source": [
    "def get_data(method, params, access_token):\n",
    "    params = urlencode(params)\n",
    "\n",
    "    headers = {\n",
    "        'Authorization': f'Bearer {access_token}'\n",
    "    }\n",
    "\n",
    "    url = f'https://api.vk.com/method/{method}?{params}'\n",
    "\n",
    "    res = requests.get(url, headers=headers)\n",
    "    return res"
   ]
  },
  {
   "cell_type": "code",
   "execution_count": 38,
   "metadata": {},
   "outputs": [
    {
     "data": {
      "text/plain": [
       "<Response [200]>"
      ]
     },
     "execution_count": 38,
     "metadata": {},
     "output_type": "execute_result"
    }
   ],
   "source": [
    "m = 'ads.getAccounts'\n",
    "params = {'v': API_VERSION}\n",
    "\n",
    "res = get_data(m, params, access_token)\n",
    "res"
   ]
  },
  {
   "cell_type": "code",
   "execution_count": 40,
   "metadata": {},
   "outputs": [],
   "source": [
    "accounts = res.json()"
   ]
  },
  {
   "cell_type": "code",
   "execution_count": 49,
   "metadata": {},
   "outputs": [],
   "source": [
    "account_name = 'Smysl.io'\n",
    "account = [a for a in accounts['response'] if a['account_name'] == account_name][0]\n",
    "account_id = account['account_id']"
   ]
  },
  {
   "cell_type": "code",
   "execution_count": 69,
   "metadata": {},
   "outputs": [
    {
     "data": {
      "text/plain": [
       "<Response [200]>"
      ]
     },
     "execution_count": 69,
     "metadata": {},
     "output_type": "execute_result"
    }
   ],
   "source": [
    "m = 'ads.getCampaigns'\n",
    "params = {\n",
    "    'v': API_VERSION,\n",
    "    'account_id': account_id\n",
    "    }\n",
    "\n",
    "res = get_data(m, params, access_token)\n",
    "res"
   ]
  },
  {
   "cell_type": "code",
   "execution_count": 72,
   "metadata": {},
   "outputs": [
    {
     "data": {
      "text/plain": [
       "[{'all_limit': '0',\n",
       "  'day_limit': '0',\n",
       "  'id': 1017415637,\n",
       "  'name': '20210102_metrics',\n",
       "  'start_time': 0,\n",
       "  'status': 1,\n",
       "  'stop_time': 0,\n",
       "  'type': 'normal',\n",
       "  'create_time': 1609583475,\n",
       "  'goal_type': 0,\n",
       "  'user_goal_type': 0,\n",
       "  'is_cbo_enabled': False,\n",
       "  'update_time': 1609583475}]"
      ]
     },
     "execution_count": 72,
     "metadata": {},
     "output_type": "execute_result"
    }
   ],
   "source": [
    "res.json()\n",
    "campaigns = res.json()['response']\n",
    "campaigns"
   ]
  },
  {
   "cell_type": "code",
   "execution_count": 73,
   "metadata": {},
   "outputs": [
    {
     "data": {
      "text/plain": [
       "<Response [200]>"
      ]
     },
     "execution_count": 73,
     "metadata": {},
     "output_type": "execute_result"
    }
   ],
   "source": [
    "m = 'ads.getAds'\n",
    "params = {\n",
    "    'v': API_VERSION,\n",
    "    'account_id': account_id\n",
    "    }\n",
    "\n",
    "res = get_data(m, params, access_token)\n",
    "res"
   ]
  },
  {
   "cell_type": "code",
   "execution_count": 78,
   "metadata": {},
   "outputs": [],
   "source": [
    "res.json()\n",
    "ads = res.json()['response']"
   ]
  },
  {
   "cell_type": "code",
   "execution_count": 86,
   "metadata": {},
   "outputs": [],
   "source": [
    "ad_ids = [str(a['id']) for a in ads]"
   ]
  },
  {
   "cell_type": "code",
   "execution_count": 89,
   "metadata": {},
   "outputs": [
    {
     "data": {
      "text/plain": [
       "<Response [200]>"
      ]
     },
     "execution_count": 89,
     "metadata": {},
     "output_type": "execute_result"
    }
   ],
   "source": [
    "m = 'ads.getStatistics'\n",
    "params = {\n",
    "    'v': API_VERSION,\n",
    "    'account_id': account_id,\n",
    "    'ids_type': 'ad',\n",
    "    'ids': ','.join(ad_ids),\n",
    "    'period': 'day',\n",
    "    'date_from': '2010-01-01',\n",
    "    'date_to': '2023-01-01'\n",
    "    }\n",
    "\n",
    "res = get_data(m, params, access_token)\n",
    "res"
   ]
  },
  {
   "cell_type": "code",
   "execution_count": 109,
   "metadata": {},
   "outputs": [],
   "source": [
    "stats = res.json()['response']\n",
    "\n",
    "data = []\n",
    "\n",
    "for stat in stats:\n",
    "    row = {'id': stat['id']}\n",
    "    for period in stat['stats']:\n",
    "        row = row | period\n",
    "        data.append(row)"
   ]
  },
  {
   "cell_type": "code",
   "execution_count": 112,
   "metadata": {},
   "outputs": [],
   "source": [
    "import pandas as pd\n",
    "\n",
    "df = pd.DataFrame(data)"
   ]
  },
  {
   "cell_type": "code",
   "execution_count": 122,
   "metadata": {},
   "outputs": [],
   "source": [
    "df['spent'] = df['spent'].astype('float')"
   ]
  },
  {
   "cell_type": "code",
   "execution_count": 124,
   "metadata": {},
   "outputs": [
    {
     "name": "stderr",
     "output_type": "stream",
     "text": [
      "/var/folders/s_/t8ytmm9940j564xd698kgmm00000gn/T/ipykernel_47077/1276997166.py:1: FutureWarning: The provided callable <built-in function sum> is currently using SeriesGroupBy.sum. In a future version of pandas, the provided callable will be used directly. To keep current behavior pass 'sum' instead.\n",
      "  df.groupby('day').agg({'spent': sum}).plot(figsize=(16,6))\n"
     ]
    },
    {
     "data": {
      "text/plain": [
       "<Axes: xlabel='day'>"
      ]
     },
     "execution_count": 124,
     "metadata": {},
     "output_type": "execute_result"
    },
    {
     "data": {
      "image/png": "[encoded data removed]",
      "text/plain": [
       "<Figure size 1600x600 with 1 Axes>"
      ]
     },
     "metadata": {},
     "output_type": "display_data"
    }
   ],
   "source": [
    "df.groupby('day').agg({'spent': sum}).plot(figsize=(16,6))"
   ]
  },
  {
   "cell_type": "code",
   "execution_count": null,
   "metadata": {},
   "outputs": [],
   "source": []
  }
 ],
 "metadata": {
  "kernelspec": {
   "display_name": "venv",
   "language": "python",
   "name": "python3"
  },
  "language_info": {
   "codemirror_mode": {
    "name": "ipython",
    "version": 3
   },
   "file_extension": ".py",
   "mimetype": "text/x-python",
   "name": "python",
   "nbconvert_exporter": "python",
   "pygments_lexer": "ipython3",
   "version": "3.9.17"
  }
 },
 "nbformat": 4,
 "nbformat_minor": 2
}
