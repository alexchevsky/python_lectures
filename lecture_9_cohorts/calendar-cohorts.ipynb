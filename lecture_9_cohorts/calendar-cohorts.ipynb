{
 "cells": [
  {
   "cell_type": "code",
   "execution_count": 1,
   "metadata": {},
   "outputs": [],
   "source": [
    "import pandas as pd"
   ]
  },
  {
   "cell_type": "code",
   "execution_count": 2,
   "metadata": {},
   "outputs": [],
   "source": [
    "# сколько нужно денег выделить на рекламу в следующем месяце, \n",
    "# чтобы увеличить выручку в 2 раза\n",
    "\n",
    "# сейчас выручка = X = 21K \n",
    "# нам в следующем месяце нужно получить 2X = 42K\n",
    "# итоговая выручка = \n",
    "    # выручка от новых клиентов = $27.3K\n",
    "    # + выручка от текущих клиентов = 14.7K\n",
    "# какую долю выручки можно ожидать от текущих клиентов?\n",
    "# остаток — то, что нужно «докупить» маркетингом"
   ]
  },
  {
   "cell_type": "code",
   "execution_count": 3,
   "metadata": {},
   "outputs": [],
   "source": [
    "# 1. Построим календарный когортный отчет\n",
    "# 2. Считаем долю выручки от новых клиентов\n",
    "# ..."
   ]
  },
  {
   "cell_type": "code",
   "execution_count": null,
   "metadata": {},
   "outputs": [],
   "source": [
    "# Алгоритм\n",
    "# 0. Формулируем задачу\n",
    "# 1. Определяем когорту (событие и временной промежуток) — первая покупка по месяцам\n",
    "# 2. Выделяем целевую метрику - выручка\n",
    "# 3. Выбираем подходящий формат отчета - календарный"
   ]
  },
  {
   "cell_type": "code",
   "execution_count": 27,
   "metadata": {},
   "outputs": [],
   "source": [
    "orders = pd.read_csv('data/orders.csv', index_col='payment_id')\n",
    "orders['created_at'] = pd.to_datetime(orders['created_at'])\n",
    "orders = (\n",
    "    orders\n",
    "    .groupby('user_id')\n",
    "    .agg(first_payment_at = ('created_at','min'))\n",
    "    .merge(orders, how='inner', left_index=True, right_on='user_id')\n",
    ")\n",
    "orders['payment_month'] = orders['created_at'].dt.to_period('M')\n",
    "orders['first_payment_month'] = orders['first_payment_at'].dt.to_period('M')"
   ]
  },
  {
   "cell_type": "code",
   "execution_count": 33,
   "metadata": {},
   "outputs": [
    {
     "data": {
      "text/html": [
       "<div>\n",
       "<style scoped>\n",
       "    .dataframe tbody tr th:only-of-type {\n",
       "        vertical-align: middle;\n",
       "    }\n",
       "\n",
       "    .dataframe tbody tr th {\n",
       "        vertical-align: top;\n",
       "    }\n",
       "\n",
       "    .dataframe thead th {\n",
       "        text-align: right;\n",
       "    }\n",
       "</style>\n",
       "<table border=\"1\" class=\"dataframe\">\n",
       "  <thead>\n",
       "    <tr style=\"text-align: right;\">\n",
       "      <th></th>\n",
       "      <th></th>\n",
       "      <th>revenue</th>\n",
       "    </tr>\n",
       "    <tr>\n",
       "      <th>first_payment_month</th>\n",
       "      <th>payment_month</th>\n",
       "      <th></th>\n",
       "    </tr>\n",
       "  </thead>\n",
       "  <tbody>\n",
       "    <tr>\n",
       "      <th rowspan=\"2\" valign=\"top\">2022-09</th>\n",
       "      <th>2022-10</th>\n",
       "      <td>2385.74</td>\n",
       "    </tr>\n",
       "    <tr>\n",
       "      <th>2022-11</th>\n",
       "      <td>1534.92</td>\n",
       "    </tr>\n",
       "    <tr>\n",
       "      <th rowspan=\"2\" valign=\"top\">2022-10</th>\n",
       "      <th>2022-10</th>\n",
       "      <td>6904.14</td>\n",
       "    </tr>\n",
       "    <tr>\n",
       "      <th>2022-11</th>\n",
       "      <td>1846.74</td>\n",
       "    </tr>\n",
       "    <tr>\n",
       "      <th>2022-11</th>\n",
       "      <th>2022-11</th>\n",
       "      <td>5550.26</td>\n",
       "    </tr>\n",
       "  </tbody>\n",
       "</table>\n",
       "</div>"
      ],
      "text/plain": [
       "                                   revenue\n",
       "first_payment_month payment_month         \n",
       "2022-09             2022-10        2385.74\n",
       "                    2022-11        1534.92\n",
       "2022-10             2022-10        6904.14\n",
       "                    2022-11        1846.74\n",
       "2022-11             2022-11        5550.26"
      ]
     },
     "execution_count": 33,
     "metadata": {},
     "output_type": "execute_result"
    }
   ],
   "source": [
    "(\n",
    "    orders\n",
    "    .groupby(['first_payment_month', 'payment_month'])\n",
    "    .agg(revenue = ('payment_sum', 'sum'))\n",
    ").tail(5)"
   ]
  },
  {
   "cell_type": "code",
   "execution_count": 43,
   "metadata": {},
   "outputs": [],
   "source": [
    "cohorts = (\n",
    "    orders\n",
    "    .pivot_table(\n",
    "        index='first_payment_month',\n",
    "        columns='payment_month',\n",
    "        values='payment_sum',\n",
    "        aggfunc='sum'\n",
    "    )\n",
    ")"
   ]
  },
  {
   "cell_type": "code",
   "execution_count": 69,
   "metadata": {},
   "outputs": [
    {
     "data": {
      "text/plain": [
       "payment_month\n",
       "2019-12      479.20\n",
       "2020-01     3105.00\n",
       "2020-02     3959.21\n",
       "2020-03     3830.15\n",
       "2020-04     5178.73\n",
       "2020-05     6075.07\n",
       "2020-06     7539.99\n",
       "2020-07    10398.12\n",
       "2020-08    10707.28\n",
       "2020-09     9926.86\n",
       "2020-10    11331.56\n",
       "2020-11    11505.93\n",
       "2020-12    10275.28\n",
       "2021-01    11432.94\n",
       "2021-02     8725.90\n",
       "2021-03     9855.15\n",
       "2021-04    11780.69\n",
       "2021-05    11519.70\n",
       "2021-06    13674.74\n",
       "2021-07    12210.66\n",
       "2021-08    12443.40\n",
       "2021-09    10543.05\n",
       "2021-10    12531.69\n",
       "2021-11    14753.47\n",
       "2021-12    13861.34\n",
       "2022-01    14207.26\n",
       "2022-02    15417.54\n",
       "2022-03    17315.27\n",
       "2022-04    15995.23\n",
       "2022-05    19872.96\n",
       "2022-06    21304.66\n",
       "2022-07    30134.08\n",
       "2022-08    26030.25\n",
       "2022-09    24053.61\n",
       "2022-10    24405.30\n",
       "2022-11    21906.35\n",
       "Freq: M, dtype: float64"
      ]
     },
     "execution_count": 69,
     "metadata": {},
     "output_type": "execute_result"
    }
   ],
   "source": [
    "cohorts.sum(axis='rows')"
   ]
  },
  {
   "cell_type": "code",
   "execution_count": 68,
   "metadata": {},
   "outputs": [
    {
     "data": {
      "text/plain": [
       "payment_month\n",
       "2019-12    1.000000\n",
       "2020-01    0.967250\n",
       "2020-02    0.826640\n",
       "2020-03    0.782758\n",
       "2020-04    0.528778\n",
       "2020-05    0.568927\n",
       "2020-06    0.489693\n",
       "2020-07    0.515731\n",
       "2020-08    0.464140\n",
       "2020-09    0.414599\n",
       "2020-10    0.391675\n",
       "2020-11    0.342659\n",
       "2020-12    0.336693\n",
       "2021-01    0.428515\n",
       "2021-02    0.257788\n",
       "2021-03    0.299492\n",
       "2021-04    0.345021\n",
       "2021-05    0.381927\n",
       "2021-06    0.379585\n",
       "2021-07    0.399384\n",
       "2021-08    0.322369\n",
       "2021-09    0.321196\n",
       "2021-10    0.356536\n",
       "2021-11    0.428804\n",
       "2021-12    0.316025\n",
       "2022-01    0.346994\n",
       "2022-02    0.310629\n",
       "2022-03    0.325305\n",
       "2022-04    0.323955\n",
       "2022-05    0.383911\n",
       "2022-06    0.329473\n",
       "2022-07    0.313939\n",
       "2022-08    0.287265\n",
       "2022-09    0.281811\n",
       "2022-10    0.282895\n",
       "2022-11    0.253363\n",
       "Freq: M, dtype: float64"
      ]
     },
     "execution_count": 68,
     "metadata": {},
     "output_type": "execute_result"
    }
   ],
   "source": [
    "[cohorts.at[m,m] for m in cohorts.columns] / cohorts.sum(axis='rows')"
   ]
  },
  {
   "cell_type": "code",
   "execution_count": null,
   "metadata": {},
   "outputs": [],
   "source": []
  }
 ],
 "metadata": {
  "kernelspec": {
   "display_name": "data",
   "language": "python",
   "name": "python3"
  },
  "language_info": {
   "codemirror_mode": {
    "name": "ipython",
    "version": 3
   },
   "file_extension": ".py",
   "mimetype": "text/x-python",
   "name": "python",
   "nbconvert_exporter": "python",
   "pygments_lexer": "ipython3",
   "version": "3.9.6"
  }
 },
 "nbformat": 4,
 "nbformat_minor": 2
}
